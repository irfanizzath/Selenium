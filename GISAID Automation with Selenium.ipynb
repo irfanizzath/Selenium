{
 "cells": [
  {
   "cell_type": "markdown",
   "metadata": {},
   "source": [
    "# Automating GISAID EpiCov Sequence Downloads with Selenium"
   ]
  },
  {
   "cell_type": "markdown",
   "metadata": {},
   "source": [
    "### Mohamed Irfan"
   ]
  },
  {
   "cell_type": "markdown",
   "metadata": {},
   "source": [
    "This is a GISAID downloader to retrieve the **most recent EpiCoV sequence of all countries**. The script utilizes **Selenium** to acess the GISAID website through a **Chrome webdriver**.\n",
    "All code is written with Python."
   ]
  },
  {
   "cell_type": "markdown",
   "metadata": {},
   "source": [
    "The **BeautifulSoup library** was used to scrape the list of locations ( **Continent/ Country**) from the GISAID Forum. The data was then converted to a list of strings that could be passed in the location search field during automation."
   ]
  },
  {
   "cell_type": "markdown",
   "metadata": {},
   "source": [
    "All downloaded sequences will land on the Downloads folder."
   ]
  },
  {
   "cell_type": "code",
   "execution_count": null,
   "metadata": {},
   "outputs": [],
   "source": [
    "locations = [\n",
    "    'Africa / Kenya / ', 'Africa / Lesotho / ', 'Africa / Liberia / ', 'Africa / Libya / ',\n",
    "    'Africa / Madagascar / ', 'Africa / Malawi / ', 'Africa / Mali / ', 'Africa / Mauritania / ',\n",
    "    'Africa / Mauritius', 'Africa / Mayotte / ', 'Africa / Morocco / ', 'Africa / Mozambique / ',\n",
    "    'Africa / Namibia / ', 'Africa / Niger / ', 'Africa / Nigeria / ', 'Africa / Republic of the Congo / ',\n",
    "    'Africa / Reunion', 'Africa / Rwanda / ', 'Africa / Sao Tome and Principe', 'Africa / Senegal / ',\n",
    "    'Africa / Seychelles', 'Africa / Sierra Leone', 'Africa / Somalia / ', 'Africa / South Africa / ',\n",
    "    'Africa / South Sudan', 'Africa / Sudan', 'Africa / Tanzania / ', 'Africa / Togo / ', 'Africa / Tunisia / ',\n",
    "    'Africa / Uganda', 'Africa / Zambia / ', 'Africa / Zimbabwe', 'Asia / Afghanistan', 'Asia / Armenia',\n",
    "    'Asia / Bahrain', 'Asia / Bangladesh / ', 'Asia / Bhutan', 'Asia / Brunei', 'Asia / Cambodia', 'Asia / China / ',\n",
    "    'Asia / Georgia / ', 'Asia / Hong Kong', 'Asia / India / ', 'Asia / Indonesia / ', 'Asia / Iran / ',\n",
    "    'Asia / Iraq / ', 'Asia / Israel', 'Asia / Japan / ', 'Asia / Jordan / ', 'Asia / Kazakhstan / ',\n",
    "    'Asia / Kuwait / ', 'Asia / Kyrgyzstan / ', 'Asia / Laos / ', 'Asia / Lebanon', 'Asia / Macao',\n",
    "    'Asia / Malaysia / ', 'Asia / Maldives / ', 'Asia / Mongolia', 'Asia / Myanmar / ', 'Asia / Nepal / ',\n",
    "    'Asia / Oman / ', 'Asia / Pakistan / ', 'Asia / Palestine', 'Asia / Philippines / ', 'Asia / Qatar / ',\n",
    "    'Asia / Saudi Arabia / ', 'Asia / Singapore', 'Asia / South Korea', 'Asia / Sri Lanka / ', 'Asia / Syria / ',\n",
    "    'Asia / Taiwan / ', 'Asia / Thailand / ', 'Asia / Timor-Leste', 'Asia / Turkey / ',\n",
    "    'Asia / United Arab Emirates / ', 'Asia / Uzbekistan / ', 'Asia / Vietnam / ', 'Europe / Albania',\n",
    "    'Europe / Andorra / ', 'Europe / Austria / ', 'Europe / Azerbaijan', 'Europe / Belarus / ',\n",
    "    'Europe / Belgium / ', 'Europe / Bosnia and Herzegovina / ', 'Europe / Bulgaria / ', 'Europe / Canary Islands',\n",
    "    'Europe / Crimea / ', 'Europe / Croatia / ', 'Europe / Cyprus', 'Europe / Czech Republic / ', 'Europe / Denmark / ',\n",
    "    'Europe / Estonia / ', 'Europe / Faroe Islands', 'Europe / Finland', 'Europe / France / ', 'Europe / Germany / ',\n",
    "    'Europe / Gibraltar', 'Europe / Greece / ', 'Europe / Hungary', 'Europe / Iceland', 'Europe / Ireland / ',\n",
    "    'Europe / Italy / ', 'Europe / Kosovo / ', 'Europe / Latvia', 'Europe / Liechtenstein', 'Europe / Lithuania / ',\n",
    "    'Europe / Luxembourg', 'Europe / Malta', 'Europe / Moldova / ', 'Europe / Monaco', 'Europe / Montenegro / ',\n",
    "    'Europe / Netherlands / ', 'Europe / North Macedonia / ', 'Europe / Norway / ', 'Europe / Poland / ',\n",
    "    'Europe / Portugal', 'Europe / Romania / ', 'Europe / Russia / ', 'Europe / Serbia / ', 'Europe / Slovakia / ',\n",
    "    'Europe / Slovenia', 'Europe / Spain / ', 'Europe / Sweden / ', 'Europe / Switzerland / ', 'Europe / Turkey',\n",
    "    'Europe / Ukraine / ', 'Europe / United Kingdom / ', 'North America / Anguilla', 'North America / Antigua and Barbuda',\n",
    "    'North America / Barbados', 'North America / Belize / ', 'North America / Bermuda', 'North America / British Virgin Islands',\n",
    "    'North America / Canada / ', 'North America / Cayman Islands', 'North America / Costa Rica / ', 'North America / Cuba / ',\n",
    "    'North America / Dominica', 'North America / Dominican Republic', 'North America / El Salvador', 'North America / Grenada',\n",
    "    'North America / Guadeloupe', 'North America / Guatemala', 'North America / Haiti', 'North America / Honduras',\n",
    "    'North America / Jamaica', 'North America / Martinique', 'North America / Mexico / ', 'North America / Montserrat',\n",
    "    'North America / Nicaragua', 'North America / Panama / ', 'North America / Puerto Rico', 'North America / Saint Barthelemy',\n",
    "    'North America / Saint Kitts and Nevis', 'North America / Saint Lucia', 'North America / Saint Martin / ',\n",
    "    'North America / Saint Vincent and the Grenadines', 'North America / Sint Eustatius', 'North America / Sint Maarten / ',\n",
    "    'North America / The Bahamas', 'North America / Turks and Caicos Islands', 'North America / U.S. Virgin Islands',\n",
    "    'North America / USA / ', 'Oceania / American Samoa', 'Oceania / Australia / ', 'Oceania / Cook Islands', 'Oceania / Fiji',\n",
    "    'Oceania / French Polynesia / ', 'Oceania / Guam', 'Oceania / Kiribati', 'Oceania / Marshall Islands', 'Oceania / Micronesia / ',\n",
    "    'Oceania / New Caledonia / ', 'Oceania / New Zealand / ', 'Oceania / Northern Mariana Islands', 'Oceania / Palau',\n",
    "    'Oceania / Papua New Guinea', 'Oceania / Solomon Islands', 'Oceania / Tonga', 'Oceania / Vanuatu',\n",
    "    'Oceania / Wallis and Futuna Islands / ', 'South America / Argentina / ', 'South America / Aruba / ',\n",
    "    'South America / Bolivia / ', 'South America / Bonaire / ', 'South America / Brazil / ', 'South America / Chile / ',\n",
    "    'South America / Colombia / ', 'South America / Curacao / ', 'South America / Ecuador / ', 'South America / French Guiana',\n",
    "    'South America / Guyana', 'South America / Paraguay / ', 'South America / Peru / ', 'South America / Suriname',\n",
    "    'South America / Trinidad and Tobago', 'South America / Uruguay / ', 'South America / Venezuela',\n",
    "    'Caribbean / Anguilla / ', 'Caribbean / Antigua and Barbuda / ', 'Caribbean / Aruba / ', 'Caribbean / Barbados / ',\n",
    "    'Caribbean / Belize / ', 'Caribbean / Bermuda / ', 'Caribbean / Bonaire / ', 'Caribbean / British Virgin Islands / ',\n",
    "    'Caribbean / Cayman Islands / ', 'Caribbean / Cuba / ', 'Caribbean / Curacao / ', 'Caribbean / Dominica / ',\n",
    "    'Caribbean / Dominican Republic / ', 'Caribbean / Grenada / ', 'Caribbean / Guadeloupe / ', 'Caribbean / Haiti / ',\n",
    "    'Caribbean / Jamaica / ', 'Caribbean / Martinique / ', 'Caribbean / Montserrat / ', 'Caribbean / Puerto Rico / ',\n",
    "    'Caribbean / Saint Barthelemy / ', 'Caribbean / Saint Kitts and Nevis / ', 'Caribbean / Saint Lucia / ',\n",
    "    'Caribbean / Saint Martin / ', 'Caribbean / Saint Vincent and the Grenadines / ', 'Caribbean / Sint Eustatius / ',\n",
    "    'Caribbean / Sint Maarten / ', 'Caribbean / The Bahamas / ', 'Caribbean / Trinidad and Tobago / ',\n",
    "    'Caribbean / Turks and Caicos Islands / ', 'Caribbean / U.S. Virgin Islands / ', 'Central America / Costa Rica / ',\n",
    "    'Central America / El Salvador / ', 'Central America / Guatemala / ', 'Central America / Honduras / ',\n",
    "    'Central America / Nicaragua / ', 'Central America / Panama / ', 'ASEAN', 'PAHO', 'WHO / AFRO', 'WHO / AMRO',\n",
    "    'WHO / EMRO', 'WHO / EURO', 'WHO / SEARO', 'WHO / WPRO'\n",
    "]\n"
   ]
  },
  {
   "cell_type": "code",
   "execution_count": null,
   "metadata": {},
   "outputs": [],
   "source": [
    "from selenium import webdriver\n",
    "from selenium.webdriver.common.by import By\n",
    "from selenium.webdriver.common.keys import Keys\n",
    "from selenium.webdriver.support.ui import WebDriverWait\n",
    "from selenium.webdriver.support import expected_conditions as EC\n",
    "from selenium.webdriver.chrome.service import Service as ChromeService\n",
    "import time\n",
    "import warnings\n",
    "\n",
    "warnings.filterwarnings(\"ignore\")\n",
    "\n",
    "# Setting the path to the ChromeDriver executable\n",
    "chrome_driver_path = r\"C:\\Users\\irfan\\Desktop\\chromedriver-win64\\chromedriver.exe\"  # Update with your actual path\n",
    "\n",
    "# Creating a ChromeService object with the executable path\n",
    "chrome_service = ChromeService(executable_path=chrome_driver_path)\n",
    "\n",
    "# Creating a Chrome WebDriver instance using the service\n",
    "driver = webdriver.Chrome(service=chrome_service)\n",
    "\n",
    "# Opening the URL\n",
    "url = \"https://www.epicov.org/epi3/frontend#62682a\"\n",
    "driver.get(url)\n",
    "\n",
    "body_element = driver.find_element(By.TAG_NAME, 'body')\n",
    "body_element.send_keys(Keys.PAGE_DOWN)  # Scroll down\n",
    "\n",
    "# Finding and filling in the username and password fields\n",
    "username = driver.find_element_by_name('login')\n",
    "username.send_keys('mohamedirfan.abdul')\n",
    "password = driver.find_element_by_name('password')\n",
    "password.send_keys('Mo@181203')\n",
    "\n",
    "# Clicking the login button\n",
    "login = driver.find_element_by_class_name('form_button_submit')\n",
    "login.click()\n",
    "box = WebDriverWait(driver, 20).until(EC.element_to_be_clickable((By.XPATH, '//*[@id=\"c_s0o7qn_yv-c_s0o7qn_yv\"]/div/div[2]/div[2]/u')))\n",
    "box.click()\n",
    "    \n",
    "for location in locations:      \n",
    "\n",
    "    # Waiting for the 'location' input field to be present\n",
    "    location_input = WebDriverWait(driver, 20).until(EC.presence_of_element_located((By.XPATH, '//*[@id=\"ce_s0o7qn_bj_entry\"]')))\n",
    "    location_input.clear()\n",
    "    location_input.send_keys(location)\n",
    "    \n",
    "    time.sleep(6)  # Waiting for 6 seconds\n",
    "    \n",
    "    # Clicking the first result in the search results\n",
    "    driver.find_elements_by_class_name('yui-dt-even')[0].click()\n",
    "\n",
    "    time.sleep(6)  # Waiting for 6 seconds\n",
    "\n",
    "    # Switching to the iframe containing the FASTA button\n",
    "    WebDriverWait(driver, 10).until(EC.frame_to_be_available_and_switch_to_it(0))\n",
    "\n",
    "    # Now you can interact with elements inside the iframe\n",
    "\n",
    "    # Waiting for the FASTA button to be clickable\n",
    "    FASTA = WebDriverWait(driver, 10).until(EC.element_to_be_clickable((By.XPATH, '//*[@id=\"ce_s0o7qn_dy\"]/div/button')))\n",
    "    FASTA.click()\n",
    "    \n",
    "    time.sleep(10)  # Waiting for 10 seconds after the download\n",
    "    \n",
    "    # Going back to the previous page\n",
    "    driver.back()\n",
    "    driver.back()\n",
    "    \n",
    "    time.sleep(6)  # Waiting for 6 seconds\n",
    "\n",
    "# Quitting the browser\n",
    "driver.quit()\n"
   ]
  }
 ],
 "metadata": {
  "kernelspec": {
   "display_name": "Python 3 (ipykernel)",
   "language": "python",
   "name": "python3"
  },
  "language_info": {
   "codemirror_mode": {
    "name": "ipython",
    "version": 3
   },
   "file_extension": ".py",
   "mimetype": "text/x-python",
   "name": "python",
   "nbconvert_exporter": "python",
   "pygments_lexer": "ipython3",
   "version": "3.9.7"
  }
 },
 "nbformat": 4,
 "nbformat_minor": 4
}
